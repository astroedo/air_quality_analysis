{
 "cells": [
  {
   "cell_type": "code",
   "execution_count": 2,
   "id": "799889b9",
   "metadata": {},
   "outputs": [],
   "source": [
    "import pandas as pd\n",
    "from flask import Flask, request, jsonify\n",
    "import threading\n",
    "import nest_asyncio\n",
    "import time\n",
    "import requests\n",
    "import ipywidgets as widgets\n",
    "from IPython.display import display, clear_output\n",
    "\n",
    "nest_asyncio.apply()\n"
   ]
  },
  {
   "cell_type": "code",
   "execution_count": 3,
   "id": "c1898634",
   "metadata": {},
   "outputs": [
    {
     "data": {
      "text/html": [
       "<div>\n",
       "<style scoped>\n",
       "    .dataframe tbody tr th:only-of-type {\n",
       "        vertical-align: middle;\n",
       "    }\n",
       "\n",
       "    .dataframe tbody tr th {\n",
       "        vertical-align: top;\n",
       "    }\n",
       "\n",
       "    .dataframe thead th {\n",
       "        text-align: right;\n",
       "    }\n",
       "</style>\n",
       "<table border=\"1\" class=\"dataframe\">\n",
       "  <thead>\n",
       "    <tr style=\"text-align: right;\">\n",
       "      <th></th>\n",
       "      <th>Pianta</th>\n",
       "      <th>Altezza_cm</th>\n",
       "    </tr>\n",
       "  </thead>\n",
       "  <tbody>\n",
       "    <tr>\n",
       "      <th>0</th>\n",
       "      <td>Girasole</td>\n",
       "      <td>150</td>\n",
       "    </tr>\n",
       "    <tr>\n",
       "      <th>1</th>\n",
       "      <td>Orchidea</td>\n",
       "      <td>40</td>\n",
       "    </tr>\n",
       "    <tr>\n",
       "      <th>2</th>\n",
       "      <td>Felce</td>\n",
       "      <td>60</td>\n",
       "    </tr>\n",
       "    <tr>\n",
       "      <th>3</th>\n",
       "      <td>Cactus</td>\n",
       "      <td>25</td>\n",
       "    </tr>\n",
       "    <tr>\n",
       "      <th>4</th>\n",
       "      <td>Bonsai</td>\n",
       "      <td>30</td>\n",
       "    </tr>\n",
       "  </tbody>\n",
       "</table>\n",
       "</div>"
      ],
      "text/plain": [
       "     Pianta  Altezza_cm\n",
       "0  Girasole         150\n",
       "1  Orchidea          40\n",
       "2     Felce          60\n",
       "3    Cactus          25\n",
       "4    Bonsai          30"
      ]
     },
     "execution_count": 3,
     "metadata": {},
     "output_type": "execute_result"
    }
   ],
   "source": [
    "df = pd.DataFrame({\n",
    "    \"Pianta\": [\"Girasole\", \"Orchidea\", \"Felce\", \"Cactus\", \"Bonsai\"],\n",
    "    \"Altezza_cm\": [150, 40, 60, 25, 30]\n",
    "})\n",
    "df.to_csv(\"piante.csv\", index=False)\n",
    "df\n"
   ]
  },
  {
   "cell_type": "code",
   "execution_count": 4,
   "id": "d035e52d",
   "metadata": {},
   "outputs": [],
   "source": [
    "app = Flask(\"MagiaPiante\")\n",
    "\n",
    "@app.route(\"/magiaPiante/api/crescita\", methods=[\"POST\"])\n",
    "def crescita():\n",
    "    try:\n",
    "        dati = request.get_json()\n",
    "        potione = int(dati.get(\"potione\", 0))  # percentuale crescita\n",
    "\n",
    "        piante = pd.read_csv(\"piante.csv\")\n",
    "        # Crescita proporzionale\n",
    "        piante[\"Altezza_cm\"] = piante[\"Altezza_cm\"] * (1 + potione/100)\n",
    "\n",
    "        piante.to_csv(\"piante_aggiornate.csv\", index=False)\n",
    "\n",
    "        return jsonify({\"result\": \"La magia ha fatto crescere le piante!\"})\n",
    "    except Exception as e:\n",
    "        print(\"Errore magico:\", e)\n",
    "        return jsonify({\"result\": \"Errore nell'applicare la magia\"})\n"
   ]
  },
  {
   "cell_type": "code",
   "execution_count": null,
   "id": "d64930a7",
   "metadata": {},
   "outputs": [
    {
     "name": "stdout",
     "output_type": "stream",
     "text": [
      "Starting Flask server...\n"
     ]
    }
   ],
   "source": [
    "from werkzeug.serving import make_server\n",
    "\n",
    "class ServerThread(threading.Thread):\n",
    "    def __init__(self, app):\n",
    "        threading.Thread.__init__(self)\n",
    "        self.server = make_server('127.0.0.1', 5000, app)\n",
    "        self.ctx = app.app_context()\n",
    "        self.ctx.push()\n",
    "\n",
    "    def run(self):\n",
    "        print(\"Starting Flask server...\")\n",
    "        self.server.serve_forever()\n",
    "\n",
    "    def shutdown(self):\n",
    "        print(\"Shutting down Flask server...\")\n",
    "        self.server.shutdown()\n",
    "\n",
    "# Usa così:\n",
    "server = ServerThread(app)\n",
    "server.start()\n",
    "\n",
    "import time\n",
    "time.sleep(1)  # lascia partire il server\n"
   ]
  },
  {
   "cell_type": "code",
   "execution_count": 7,
   "id": "039f62c2",
   "metadata": {},
   "outputs": [
    {
     "name": "stdout",
     "output_type": "stream",
     "text": [
      "Shutting down Flask server...\n"
     ]
    }
   ],
   "source": [
    "\n",
    "# ... poi quando vuoi fermare il server:\n",
    "server.shutdown()"
   ]
  },
  {
   "cell_type": "code",
   "execution_count": null,
   "id": "4b2e8e62",
   "metadata": {},
   "outputs": [
    {
     "data": {
      "application/vnd.jupyter.widget-view+json": {
       "model_id": "5215bb81c45a480db297df0ee2ac734d",
       "version_major": 2,
       "version_minor": 0
      },
      "text/plain": [
       "IntSlider(value=0, continuous_update=False, description='Pozione Crescita (%)', min=-50, step=5)"
      ]
     },
     "metadata": {},
     "output_type": "display_data"
    },
    {
     "data": {
      "application/vnd.jupyter.widget-view+json": {
       "model_id": "f90ca4017f0840b29abf76fdb6be9a9f",
       "version_major": 2,
       "version_minor": 0
      },
      "text/plain": [
       "Button(button_style='success', description='Applica Pozione', style=ButtonStyle(), tooltip='Fai crescere le pi…"
      ]
     },
     "metadata": {},
     "output_type": "display_data"
    },
    {
     "data": {
      "application/vnd.jupyter.widget-view+json": {
       "model_id": "d59f1b7904d9485a91d71e9fa74bea92",
       "version_major": 2,
       "version_minor": 0
      },
      "text/plain": [
       "Output()"
      ]
     },
     "metadata": {},
     "output_type": "display_data"
    }
   ],
   "source": [
    "slider = widgets.IntSlider(\n",
    "    value=0,\n",
    "    min=-50,\n",
    "    max=100,\n",
    "    step=5,\n",
    "    description='Pozione Crescita (%)',\n",
    "    continuous_update=False\n",
    ")\n",
    "\n",
    "button = widgets.Button(\n",
    "    description='Applica Pozione',\n",
    "    button_style='success',\n",
    "    tooltip='Fai crescere le piante!'\n",
    ")\n",
    "\n",
    "output = widgets.Output()\n",
    "\n",
    "def on_button_clicked(b):\n",
    "    with output:\n",
    "        clear_output()\n",
    "        potione = slider.value\n",
    "        print(f\"Applicando pozione di crescita: {potione}%\")\n",
    "        try:\n",
    "            risposta = requests.post(\n",
    "                \"http://127.0.0.1:5000/magiaPiante/api/crescita\",\n",
    "                json={\"potione\": potione}\n",
    "            )\n",
    "            print(\"Risposta server:\", risposta.json()[\"result\"])\n",
    "            dati_agg = pd.read_csv(\"piante_aggiornate.csv\")\n",
    "            display(dati_agg)\n",
    "        except Exception as e:\n",
    "            print(\"Errore magia:\", e)\n",
    "\n",
    "button.on_click(on_button_clicked)\n",
    "\n",
    "display(slider, button, output)\n"
   ]
  }
 ],
 "metadata": {
  "kernelspec": {
   "display_name": "se4g",
   "language": "python",
   "name": "python3"
  },
  "language_info": {
   "codemirror_mode": {
    "name": "ipython",
    "version": 3
   },
   "file_extension": ".py",
   "mimetype": "text/x-python",
   "name": "python",
   "nbconvert_exporter": "python",
   "pygments_lexer": "ipython3",
   "version": "3.12.9"
  }
 },
 "nbformat": 4,
 "nbformat_minor": 5
}
