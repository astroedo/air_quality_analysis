{
 "cells": [
  {
   "cell_type": "code",
   "execution_count": null,
   "id": "11eeddec",
   "metadata": {},
   "outputs": [
    {
     "name": "stdout",
     "output_type": "stream",
     "text": [
      "Requirement already satisfied: flask in c:\\users\\acer\\anaconda3\\envs\\software_eng\\lib\\site-packages (3.1.1)\n",
      "Requirement already satisfied: blinker>=1.9.0 in c:\\users\\acer\\anaconda3\\envs\\software_eng\\lib\\site-packages (from flask) (1.9.0)\n",
      "Requirement already satisfied: click>=8.1.3 in c:\\users\\acer\\anaconda3\\envs\\software_eng\\lib\\site-packages (from flask) (8.2.0)\n",
      "Requirement already satisfied: itsdangerous>=2.2.0 in c:\\users\\acer\\anaconda3\\envs\\software_eng\\lib\\site-packages (from flask) (2.2.0)\n",
      "Requirement already satisfied: jinja2>=3.1.2 in c:\\users\\acer\\anaconda3\\envs\\software_eng\\lib\\site-packages (from flask) (3.1.6)\n",
      "Requirement already satisfied: markupsafe>=2.1.1 in c:\\users\\acer\\anaconda3\\envs\\software_eng\\lib\\site-packages (from flask) (3.0.2)\n",
      "Requirement already satisfied: werkzeug>=3.1.0 in c:\\users\\acer\\anaconda3\\envs\\software_eng\\lib\\site-packages (from flask) (3.1.3)\n",
      "Requirement already satisfied: colorama in c:\\users\\acer\\anaconda3\\envs\\software_eng\\lib\\site-packages (from click>=8.1.3->flask) (0.4.6)\n"
     ]
    }
   ],
   "source": [
    "from flask import Flask, jsonify, request\n",
    "import json"
   ]
  },
  {
   "cell_type": "code",
   "execution_count": null,
   "id": "73337b2d",
   "metadata": {},
   "outputs": [],
   "source": [
    "# login /signin \n",
    "app = Flask(\"GeoAir\")\n",
    "\n",
    "def signin():\n",
    "    print('For signin insert your data:\\n')\n",
    "    data = request.get_json()\n",
    "    username = data.get('username')\n",
    "    email = data.get('email')\n",
    "    password = data.get('password')\n",
    "    # put the data into USER DATABASE, simulate saving to a database\n",
    "    with open('users.json', 'a') as f: # to be defined !!!!!\n",
    "        json.dump({\"username\": username, \"email\": email, \"password\": password}, f)\n",
    "        f.write('\\n')\n",
    "    if not username or not password or not email:\n",
    "        return jsonify({\"message\": \"Username and password are required\"}), 400\n",
    "    else:       \n",
    "        return jsonify({\"message\": \"Signin successful\"}), 200\n",
    "\n",
    "@app.route('/api/login', methods=['POST'])\n",
    "def login():\n",
    "    data = request.get_json()\n",
    "    username = data.get('username')\n",
    "    email = data.get('email')\n",
    "    password = data.get('password')\n",
    "    if not username or not password or not email:\n",
    "        return jsonify({\"message\": \"Username and password are required\"}), 400\n",
    "    # Simulate checking credentials against a database\n",
    "    if username not in ['admin','email', 'user']:\n",
    "        signin()\n",
    "    else:\n",
    "        return jsonify({\"message\": \"Login successful\"}), 200"
   ]
  },
  {
   "cell_type": "code",
   "execution_count": null,
   "id": "934f0660",
   "metadata": {},
   "outputs": [],
   "source": [
    "# retrive Lombardy air quality data for a given date range, pollutants and number of data\n",
    "@app.route('/api/lombardy/air_quality_data', methods=['GET'])\n",
    "def get_lombardy_air_quality_data():\n",
    "    num_data = request.get_json()\n",
    "    if not num_data:\n",
    "            number = 1000\n",
    "            date_start = #default date\n",
    "            date_end = #default date\n",
    "            pollutants = ['PM2.5', 'PM10', 'NO2']\n",
    "    else: \n",
    "        # Extract required parameters\n",
    "        number = num_data.get('number of data')\n",
    "        date_start = num_data.get('starting date')\n",
    "        date_end = num_data.get('ending date')\n",
    "        pollutants = num_data.get('pollutants')\n",
    "\n",
    "    # NEEDS A DATABASE QUERY to be defined!!!\n",
    "    data_lombardy = {\n",
    "        \"region\": \"Lombardy\",\n",
    "        \"air_quality_index\": 42,\n",
    "        \"pollutants\": {\n",
    "            \"PM2.5\": 12,\n",
    "            \"PM10\": 20,\n",
    "            \"NO2\": 15\n",
    "        }\n",
    "    }\n",
    "    return jsonify(data_lombardy), 200"
   ]
  },
  {
   "cell_type": "code",
   "execution_count": null,
   "id": "37fa7e80",
   "metadata": {},
   "outputs": [],
   "source": [
    "# retrive cities air quality data for a given date range, pollutants and number of data\n",
    "@app.route('/api/cities/air_quality_data', methods=['GET'])\n",
    "def get_cities_air_quality_data():\n",
    "    num_data = request.get_json()\n",
    "    if not num_data:\n",
    "            number = 1000\n",
    "            date_start = #default date\n",
    "            date_end = #default date\n",
    "            pollutants = ['PM2.5', 'PM10', 'NO2']\n",
    "    else: \n",
    "        # Extract required parameters\n",
    "        number = num_data.get('number of data')\n",
    "        date_start = num_data.get('starting date')\n",
    "        date_end = num_data.get('ending date')\n",
    "        pollutants = num_data.get('pollutants')\n",
    "\n",
    "    city = request.args.get('city')\n",
    "\n",
    "    # NEEDS A DATABASE QUERY to be defined!!!\n",
    "    data_cities = {\n",
    "        \"cities\": [\"Milan\", \"Rome\", \"Naples\"],\n",
    "        \"air_quality_index\": 42,\n",
    "        \"pollutants\": {\n",
    "            \"PM2.5\": 12,\n",
    "            \"PM10\": 20,\n",
    "            \"NO2\": 15\n",
    "        }\n",
    "    }\n",
    "    return jsonify(data_cities), 200"
   ]
  },
  {
   "cell_type": "code",
   "execution_count": null,
   "id": "ce9cf81b",
   "metadata": {},
   "outputs": [],
   "source": [
    "# retrive last lombardy air quality data for a given pollutants \n",
    "@app.route('/api/lombardy/last_air_quality_data', methods=['GET'])\n",
    "def get_lombardy_last_air_quality_data():\n",
    "    pollutants = request.args.get('pollutants')\n",
    "    if not pollutants:\n",
    "        pollutants = ['PM2.5', 'PM10', 'NO2']\n",
    "    \n",
    "    # NEEDS A DATABASE QUERY to be defined!!!\n",
    "    last_data_lombardy = {\n",
    "        \"region\": \"Lombardy\",\n",
    "        \"air_quality_index\": 42,\n",
    "        \"pollutants\": {\n",
    "            \"PM2.5\": 12,\n",
    "            \"PM10\": 20,\n",
    "            \"NO2\": 15\n",
    "        }\n",
    "    }\n",
    "    return jsonify(last_data_lombardy), 200"
   ]
  },
  {
   "cell_type": "code",
   "execution_count": null,
   "id": "9b471bc9",
   "metadata": {},
   "outputs": [],
   "source": [
    "# start the Flask server\n",
    "app.run(port=5000)"
   ]
  }
 ],
 "metadata": {
  "kernelspec": {
   "display_name": "se4g",
   "language": "python",
   "name": "python3"
  },
  "language_info": {
   "codemirror_mode": {
    "name": "ipython",
    "version": 3
   },
   "file_extension": ".py",
   "mimetype": "text/x-python",
   "name": "python",
   "nbconvert_exporter": "python",
   "pygments_lexer": "ipython3",
   "version": "3.12.9"
  }
 },
 "nbformat": 4,
 "nbformat_minor": 5
}
