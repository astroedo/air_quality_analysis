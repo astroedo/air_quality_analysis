{
 "cells": [
  {
   "cell_type": "code",
   "execution_count": 6,
   "id": "83006799",
   "metadata": {},
   "outputs": [],
   "source": [
    "import psycopg2\n",
    "import pandas as pd\n",
    "\n",
    "# Connect to PostgreSQL database\n",
    "def connect_to_postgres():\n",
    "    conn = psycopg2.connect(\n",
    "        host=\"localhost\",       \n",
    "        database=\"lombardia_air_quality\", \n",
    "        user=\"airdata_user\",    \n",
    "        password=\"user\"\n",
    "    )\n",
    "    return conn\n"
   ]
  },
  {
   "cell_type": "code",
   "execution_count": null,
   "id": "e5795b74",
   "metadata": {},
   "outputs": [],
   "source": [
    "\n",
    "\n",
    "def query_data(query, format='json'):\n",
    "    \"\"\"\n",
    "    Esegue una query su PostgreSQL e restituendo DataFrame o JSON (lista di dict). Parametri:\n",
    "        query (str): Query SQL da eseguire\n",
    "        format (str): 'dataframe' o 'json'\n",
    "    \"\"\"\n",
    "    try:\n",
    "        conn = connect_to_postgres()\n",
    "        if format == 'dataframe':\n",
    "            df = pd.read_sql_query(query, conn)\n",
    "            return df\n",
    "        \n",
    "        elif format == 'json':\n",
    "            cur = conn.cursor()\n",
    "            cur.execute(query)\n",
    "            columns = [desc[0] for desc in cur.description]\n",
    "            rows = cur.fetchall()\n",
    "            return [dict(zip(columns, row)) for row in rows]\n",
    "        \n",
    "        else:\n",
    "            raise ValueError(\"format deve essere 'dataframe' o 'json'\")\n",
    "\n",
    "    except Exception as e:\n",
    "        print(f\"Errore: {e}\")\n",
    "        return None\n",
    "\n",
    "    finally:\n",
    "        if conn:\n",
    "            conn.close()\n"
   ]
  },
  {
   "cell_type": "code",
   "execution_count": 10,
   "id": "db8a66b2",
   "metadata": {},
   "outputs": [
    {
     "name": "stdout",
     "output_type": "stream",
     "text": [
      "JSON:\n",
      "[{'id': 1, 'username': 'admin', 'email': 'admin@admin.com', 'password': 'admin', 'type': 'admin', 'created_at': datetime.datetime(2025, 5, 26, 15, 34, 30, 770897)}, {'id': 2, 'username': 'user name', 'email': 'user@email.com', 'password': 'user', 'type': 'user', 'created_at': datetime.datetime(2025, 5, 26, 15, 34, 30, 770897)}, {'id': 3, 'username': 'test', 'email': 'test@test.com', 'password': 'test', 'type': 'user', 'created_at': datetime.datetime(2025, 5, 26, 15, 34, 30, 770897)}]\n",
      "Dataframe:\n",
      "   id   username            email password   type                 created_at\n",
      "0   1      admin  admin@admin.com    admin  admin 2025-05-26 15:34:30.770897\n",
      "1   2  user name   user@email.com     user   user 2025-05-26 15:34:30.770897\n",
      "2   3       test    test@test.com     test   user 2025-05-26 15:34:30.770897 \n",
      "\n"
     ]
    },
    {
     "name": "stderr",
     "output_type": "stream",
     "text": [
      "C:\\Users\\User\\AppData\\Local\\Temp\\ipykernel_14088\\3578338141.py:10: UserWarning: pandas only supports SQLAlchemy connectable (engine/connection) or database string URI or sqlite3 DBAPI2 connection. Other DBAPI2 objects are not tested. Please consider using SQLAlchemy.\n",
      "  df = pd.read_sql_query(query, conn)\n"
     ]
    }
   ],
   "source": [
    "\n",
    "# --- Esempio di utilizzo ---\n",
    "# Esegui una query SQL\n",
    "sql_query = \"SELECT * FROM users;\"\n",
    "\n",
    "# Ricevere JSON\n",
    "json_data = query_data(sql_query, format='json')\n",
    "print('JSON:')\n",
    "print(json_data)\n",
    "\n",
    "# Ricevere un DataFrame\n",
    "df = query_data(sql_query, format='dataframe')\n",
    "print('Dataframe:')\n",
    "print(df.head(), '\\n') \n",
    "# ignore userWARNING\n"
   ]
  },
  {
   "cell_type": "code",
   "execution_count": null,
   "id": "edfebb19",
   "metadata": {},
   "outputs": [],
   "source": [
    "# Alternative without df and json conversion\n",
    "def select_query(sql, data=None):\n",
    "    \"\"\"Esegue una SELECT e restituisce tutti i risultati.\"\"\"\n",
    "    try:\n",
    "        with connect_to_postgres() as conn:\n",
    "            with conn.cursor() as cur:\n",
    "                cur.execute(sql, data) if data else cur.execute(sql)\n",
    "                return cur.fetchall()\n",
    "    except Exception as e:\n",
    "        print(f\"Errore SELECT: {e}\")\n",
    "        return []\n",
    "    "
   ]
  },
  {
   "cell_type": "code",
   "execution_count": null,
   "id": "549cbfcf",
   "metadata": {},
   "outputs": [
    {
     "data": {
      "text/plain": [
       "[(1,\n",
       "  'admin',\n",
       "  'admin@admin.com',\n",
       "  'admin',\n",
       "  'admin',\n",
       "  datetime.datetime(2025, 5, 26, 15, 34, 30, 770897)),\n",
       " (2,\n",
       "  'user name',\n",
       "  'user@email.com',\n",
       "  'user',\n",
       "  'user',\n",
       "  datetime.datetime(2025, 5, 26, 15, 34, 30, 770897))]"
      ]
     },
     "execution_count": 13,
     "metadata": {},
     "output_type": "execute_result"
    }
   ],
   "source": [
    "query=\"SELECT * FROM users WHERE id = %s OR id = %s;\"\n",
    "select_query(query, (1,2))  # Esempio di utilizzo della funzione select_query"
   ]
  },
  {
   "cell_type": "code",
   "execution_count": 16,
   "id": "77fb2260",
   "metadata": {},
   "outputs": [
    {
     "name": "stdout",
     "output_type": "stream",
     "text": [
      "Utente esistente trovato.\n"
     ]
    }
   ],
   "source": [
    "# Alternative without df and json conversion\n",
    "def select_query(username, email, password, user_type='user'):\n",
    "    \"\"\"Esegue una SELECT e restituisce tutti i risultati.\"\"\"\n",
    "    sql1 = \"SELECT id, username, email, type FROM users WHERE username = %s;\"\n",
    "    sql2 = \"\"\"\n",
    "            INSERT INTO users (username, email, password, type)\n",
    "            VALUES (%s, %s, %s, %s)\n",
    "            RETURNING id, username, email, type;\n",
    "            \"\"\"\n",
    "    try:\n",
    "        with connect_to_postgres() as conn:\n",
    "            with conn.cursor() as cur:\n",
    "                cur.execute(sql1, (username,))\n",
    "                user = cur.fetchone()\n",
    "                # 1. Se esiste, ritorna tupla es: (1, 'mario', 'mario@example.com', 'admin')\n",
    "                if user:\n",
    "                    print(\"Utente esistente trovato.\")\n",
    "                    return user\n",
    "                # 2. Se non esiste, inserisce\n",
    "                cur.execute(sql2,(username, email, password, user_type,))\n",
    "                new_user = cur.fetchone()\n",
    "                conn.commit()\n",
    "                print(\"Nuovo utente inserito.\")\n",
    "                return new_user\n",
    "            \n",
    "    except Exception as e:\n",
    "        print(f\"Errore SELECT: {e}\")\n",
    "        return []\n",
    "    \n",
    "# Esempio di utilizzo della funzione select_query\n",
    "new_user = select_query('mario', 'mario@gmail.com', 'password123')"
   ]
  }
 ],
 "metadata": {
  "kernelspec": {
   "display_name": "se4g",
   "language": "python",
   "name": "python3"
  },
  "language_info": {
   "codemirror_mode": {
    "name": "ipython",
    "version": 3
   },
   "file_extension": ".py",
   "mimetype": "text/x-python",
   "name": "python",
   "nbconvert_exporter": "python",
   "pygments_lexer": "ipython3",
   "version": "3.12.9"
  }
 },
 "nbformat": 4,
 "nbformat_minor": 5
}
