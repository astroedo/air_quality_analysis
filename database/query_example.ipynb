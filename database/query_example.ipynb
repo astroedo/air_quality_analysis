{
 "cells": [
  {
   "cell_type": "code",
   "execution_count": 4,
   "id": "83006799",
   "metadata": {},
   "outputs": [],
   "source": [
    "import psycopg2\n",
    "import pandas as pd\n",
    "\n",
    "# Connect to PostgreSQL database\n",
    "def connect_to_postgres():\n",
    "    conn = psycopg2.connect(\n",
    "        host=\"localhost\",       \n",
    "        database=\"lombardia_air_quality\", \n",
    "        user=\"airdata_user\",    \n",
    "        password=\"user\"\n",
    "    )\n",
    "    return conn\n"
   ]
  },
  {
   "cell_type": "code",
   "execution_count": 5,
   "id": "e5795b74",
   "metadata": {},
   "outputs": [],
   "source": [
    "\n",
    "\n",
    "def query_data(query, format='dataframe'):\n",
    "    \"\"\"\n",
    "    Esegue una query su PostgreSQL e restituendo DataFrame o JSON (lista di dict). Parametri:\n",
    "        query (str): Query SQL da eseguire\n",
    "        format (str): 'dataframe' o 'json'\n",
    "    \"\"\"\n",
    "    try:\n",
    "        conn = connect_to_postgres()\n",
    "        if format == 'dataframe':\n",
    "            df = pd.read_sql_query(query, conn)\n",
    "            return df\n",
    "        \n",
    "        elif format == 'json':\n",
    "            cur = conn.cursor()\n",
    "            cur.execute(query)\n",
    "            columns = [desc[0] for desc in cur.description]\n",
    "            rows = cur.fetchall()\n",
    "            return [dict(zip(columns, row)) for row in rows]\n",
    "        \n",
    "        else:\n",
    "            raise ValueError(\"format deve essere 'dataframe' o 'json'\")\n",
    "\n",
    "    except Exception as e:\n",
    "        print(f\"Errore: {e}\")\n",
    "        return None\n",
    "\n",
    "    finally:\n",
    "        if conn:\n",
    "            conn.close()\n",
    "\n"
   ]
  },
  {
   "cell_type": "code",
   "execution_count": null,
   "id": "db8a66b2",
   "metadata": {},
   "outputs": [
    {
     "name": "stdout",
     "output_type": "stream",
     "text": [
      "JSON:\n",
      "[{'id': 1, 'username': 'admin', 'email': 'admin@admin.com', 'password': 'admin', 'created_at': datetime.datetime(2025, 5, 22, 21, 58, 46, 378898)}, {'id': 2, 'username': 'default user', 'email': 'defaut@user.com', 'password': 'user', 'created_at': datetime.datetime(2025, 5, 22, 21, 58, 46, 378898)}]\n",
      "Dataframe:\n",
      "   id      username            email password                 created_at\n",
      "0   1         admin  admin@admin.com    admin 2025-05-22 21:58:46.378898\n",
      "1   2  default user  defaut@user.com     user 2025-05-22 21:58:46.378898 \n",
      "\n"
     ]
    },
    {
     "name": "stderr",
     "output_type": "stream",
     "text": [
      "C:\\Users\\User\\AppData\\Local\\Temp\\ipykernel_13680\\3578338141.py:10: UserWarning: pandas only supports SQLAlchemy connectable (engine/connection) or database string URI or sqlite3 DBAPI2 connection. Other DBAPI2 objects are not tested. Please consider using SQLAlchemy.\n",
      "  df = pd.read_sql_query(query, conn)\n"
     ]
    }
   ],
   "source": [
    "\n",
    "# --- Esempio di utilizzo ---\n",
    "# Esegui una query SQL\n",
    "sql_query = \"SELECT * FROM users;\"\n",
    "\n",
    "# Ricevere JSON\n",
    "json_data = query_data(sql_query, format='json')\n",
    "print('JSON:')\n",
    "print(json_data)\n",
    "\n",
    "# Ricevere un DataFrame\n",
    "df = query_data(sql_query, format='dataframe')\n",
    "print('Dataframe:')\n",
    "print(df.head(), '\\n') \n",
    "# ignore userWARNING\n"
   ]
  }
 ],
 "metadata": {
  "kernelspec": {
   "display_name": "se4g",
   "language": "python",
   "name": "python3"
  },
  "language_info": {
   "codemirror_mode": {
    "name": "ipython",
    "version": 3
   },
   "file_extension": ".py",
   "mimetype": "text/x-python",
   "name": "python",
   "nbconvert_exporter": "python",
   "pygments_lexer": "ipython3",
   "version": "3.12.9"
  }
 },
 "nbformat": 4,
 "nbformat_minor": 5
}
