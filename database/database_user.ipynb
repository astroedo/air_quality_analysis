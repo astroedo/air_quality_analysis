{
 "cells": [
  {
   "cell_type": "code",
   "execution_count": 12,
   "id": "9ba63988",
   "metadata": {},
   "outputs": [],
   "source": [
    "import psycopg2\n",
    "from psycopg2.extras import execute_values\n",
    "from urllib.parse import urlencode\n"
   ]
  },
  {
   "cell_type": "code",
   "execution_count": 13,
   "id": "3035e58d",
   "metadata": {},
   "outputs": [],
   "source": [
    "# Connect to PostgreSQL database\n",
    "def connect_to_postgres():\n",
    "    conn = psycopg2.connect(\n",
    "        host=\"localhost\",       \n",
    "        database=\"lombardia_air_quality\", \n",
    "        user=\"airdata_user\",    \n",
    "        password=\"user\"\n",
    "    )\n",
    "    return conn"
   ]
  },
  {
   "cell_type": "code",
   "execution_count": 14,
   "id": "6eb3c612",
   "metadata": {},
   "outputs": [],
   "source": [
    "# CREATE TABLE\n",
    "def create_table_user():\n",
    "    \"\"\"\n",
    "    Crea la tabella users nel database se non esiste.\n",
    "    \"\"\"\n",
    "    print(\"Creating users table...\")\n",
    "    conn = connect_to_postgres()\n",
    "    cur = conn.cursor()\n",
    "    cur.execute(\"\"\"\n",
    "        DROP TABLE IF EXISTS users;\n",
    "        CREATE TABLE users (\n",
    "            id SERIAL PRIMARY KEY,\n",
    "            username TEXT UNIQUE NOT NULL,\n",
    "            email TEXT UNIQUE NOT NULL,\n",
    "            password TEXT NOT NULL,\n",
    "            created_at TIMESTAMP DEFAULT CURRENT_TIMESTAMP\n",
    "        );\n",
    "    \"\"\")\n",
    "    conn.commit()\n",
    "    cur.close()\n",
    "    conn.close()\n"
   ]
  },
  {
   "cell_type": "code",
   "execution_count": 15,
   "id": "b9e53916",
   "metadata": {},
   "outputs": [],
   "source": [
    "# Add default users\n",
    "def insert_default_users():\n",
    "    conn = connect_to_postgres()\n",
    "    cur = conn.cursor()\n",
    "    \n",
    "    users = [\n",
    "        ('admin', 'admin@admin.com', 'admin'),\n",
    "        ('default user', 'defaut@user.com', 'user')\n",
    "    ]\n",
    "    \n",
    "    for username, email, password in users:\n",
    "        try:\n",
    "            cur.execute(\"\"\"\n",
    "                INSERT INTO users (username, email, password) VALUES (%s, %s, %s)\n",
    "            \"\"\", (username, email, password))\n",
    "        except Exception as e:\n",
    "            print(f\"Errore inserimento utente {username}: {e}\")\n",
    "    \n",
    "    conn.commit()\n",
    "    cur.close()\n",
    "    conn.close()\n"
   ]
  },
  {
   "cell_type": "code",
   "execution_count": 16,
   "id": "687a424c",
   "metadata": {},
   "outputs": [],
   "source": [
    "def select_users():\n",
    "    try:\n",
    "        conn = connect_to_postgres()\n",
    "        cur = conn.cursor()\n",
    "        cur.execute(\"SELECT id, username, email, created_at FROM users;\")\n",
    "        rows = cur.fetchall()\n",
    "        cur.close()\n",
    "        return rows\n",
    "    except Error as e:\n",
    "        print(\"Errore durante la SELECT:\", e)\n",
    "        return []\n",
    "    finally:\n",
    "        if conn:\n",
    "            conn.close()\n"
   ]
  },
  {
   "cell_type": "code",
   "execution_count": 17,
   "id": "a538c3b0",
   "metadata": {},
   "outputs": [
    {
     "name": "stdout",
     "output_type": "stream",
     "text": [
      "Creating users table...\n"
     ]
    },
    {
     "data": {
      "text/plain": [
       "[(1,\n",
       "  'admin',\n",
       "  'admin@admin.com',\n",
       "  datetime.datetime(2025, 5, 22, 20, 25, 30, 791511)),\n",
       " (2,\n",
       "  'default user',\n",
       "  'defaut@user.com',\n",
       "  datetime.datetime(2025, 5, 22, 20, 25, 30, 791511))]"
      ]
     },
     "execution_count": 17,
     "metadata": {},
     "output_type": "execute_result"
    }
   ],
   "source": [
    "# EXECUTE TO ADD TABLE AND SAMPLE DATA\n",
    "\n",
    "create_table_user()\n",
    "insert_default_users()\n",
    "\n",
    "select_users()"
   ]
  }
 ],
 "metadata": {
  "kernelspec": {
   "display_name": "se4g",
   "language": "python",
   "name": "python3"
  },
  "language_info": {
   "codemirror_mode": {
    "name": "ipython",
    "version": 3
   },
   "file_extension": ".py",
   "mimetype": "text/x-python",
   "name": "python",
   "nbconvert_exporter": "python",
   "pygments_lexer": "ipython3",
   "version": "3.12.9"
  }
 },
 "nbformat": 4,
 "nbformat_minor": 5
}
