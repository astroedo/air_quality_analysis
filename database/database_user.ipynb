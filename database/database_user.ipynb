{
 "cells": [
  {
   "cell_type": "code",
   "execution_count": 38,
   "id": "9ba63988",
   "metadata": {},
   "outputs": [],
   "source": [
    "import psycopg2\n",
    "from psycopg2.extras import execute_values\n",
    "from urllib.parse import urlencode\n"
   ]
  },
  {
   "cell_type": "code",
   "execution_count": 39,
   "id": "3035e58d",
   "metadata": {},
   "outputs": [],
   "source": [
    "# Connect to PostgreSQL database\n",
    "def connect_to_postgres():\n",
    "    conn = psycopg2.connect(\n",
    "        host=\"localhost\",       \n",
    "        database=\"lombardia_air_quality\", \n",
    "        user=\"airdata_user\",    \n",
    "        password=\"user\"\n",
    "    )\n",
    "    return conn"
   ]
  },
  {
   "cell_type": "code",
   "execution_count": 40,
   "id": "6eb3c612",
   "metadata": {},
   "outputs": [],
   "source": [
    "# CREATE TABLE\n",
    "def create_table_user():\n",
    "    \"\"\"\n",
    "    Crea la tabella users nel database se non esiste.\n",
    "    \"\"\"\n",
    "    print(\"Creating users table...\")\n",
    "    conn = connect_to_postgres()\n",
    "    cur = conn.cursor()\n",
    "    cur.execute(\"\"\"\n",
    "        DROP TABLE IF EXISTS users;\n",
    "        CREATE TABLE users (\n",
    "            id SERIAL PRIMARY KEY,\n",
    "            username TEXT UNIQUE NOT NULL,\n",
    "            email TEXT UNIQUE NOT NULL,\n",
    "            password TEXT NOT NULL,\n",
    "            type TEXT NOT NULL default 'user',\n",
    "            created_at TIMESTAMP DEFAULT CURRENT_TIMESTAMP\n",
    "        );\n",
    "    \"\"\")\n",
    "    conn.commit()\n",
    "    cur.close()\n",
    "    conn.close()\n"
   ]
  },
  {
   "cell_type": "code",
   "execution_count": 41,
   "id": "b9e53916",
   "metadata": {},
   "outputs": [],
   "source": [
    "# Add default users\n",
    "def insert_default_users():\n",
    "    conn = connect_to_postgres()\n",
    "    cur = conn.cursor()\n",
    "    \n",
    "    users = [\n",
    "        ('admin', 'admin@admin.com', 'admin', 'admin'),\n",
    "        ('user name', 'user@email.com', 'user', 'user'),\n",
    "        ('test', 'test@test.com', 'test', 'user'),\n",
    "    ]\n",
    "    \n",
    "    for user in users:\n",
    "        try:\n",
    "            cur.execute(\"\"\"\n",
    "                INSERT INTO users (username, email, password, type) VALUES (%s, %s, %s, %s)\n",
    "            \"\"\", user)\n",
    "        except Exception as e:\n",
    "            print(f\"Errore inserimento utente {username}: {e}\")\n",
    "    \n",
    "    conn.commit()\n",
    "    cur.close()\n",
    "    conn.close()\n"
   ]
  },
  {
   "cell_type": "code",
   "execution_count": 42,
   "id": "687a424c",
   "metadata": {},
   "outputs": [],
   "source": [
    "def select_users():\n",
    "    try:\n",
    "        conn = connect_to_postgres()\n",
    "        cur = conn.cursor()\n",
    "        cur.execute(\"SELECT id, username, email, type, created_at FROM users;\")\n",
    "        rows = cur.fetchall()\n",
    "        cur.close()\n",
    "        return rows\n",
    "    except Error as e:\n",
    "        print(\"Errore durante la SELECT:\", e)\n",
    "        return []\n",
    "    finally:\n",
    "        if conn:\n",
    "            conn.close()\n"
   ]
  },
  {
   "cell_type": "code",
   "execution_count": 43,
   "id": "a538c3b0",
   "metadata": {},
   "outputs": [
    {
     "name": "stdout",
     "output_type": "stream",
     "text": [
      "Creating users table...\n"
     ]
    },
    {
     "data": {
      "text/plain": [
       "[(1,\n",
       "  'admin',\n",
       "  'admin@admin.com',\n",
       "  'admin',\n",
       "  datetime.datetime(2025, 5, 26, 15, 34, 30, 770897)),\n",
       " (2,\n",
       "  'user name',\n",
       "  'user@email.com',\n",
       "  'user',\n",
       "  datetime.datetime(2025, 5, 26, 15, 34, 30, 770897)),\n",
       " (3,\n",
       "  'test',\n",
       "  'test@test.com',\n",
       "  'user',\n",
       "  datetime.datetime(2025, 5, 26, 15, 34, 30, 770897))]"
      ]
     },
     "execution_count": 43,
     "metadata": {},
     "output_type": "execute_result"
    }
   ],
   "source": [
    "# EXECUTE TO ADD TABLE AND SAMPLE DATA\n",
    "\n",
    "create_table_user()\n",
    "insert_default_users()\n",
    "\n",
    "select_users()"
   ]
  }
 ],
 "metadata": {
  "kernelspec": {
   "display_name": "se4g",
   "language": "python",
   "name": "python3"
  },
  "language_info": {
   "codemirror_mode": {
    "name": "ipython",
    "version": 3
   },
   "file_extension": ".py",
   "mimetype": "text/x-python",
   "name": "python",
   "nbconvert_exporter": "python",
   "pygments_lexer": "ipython3",
   "version": "3.12.9"
  }
 },
 "nbformat": 4,
 "nbformat_minor": 5
}
