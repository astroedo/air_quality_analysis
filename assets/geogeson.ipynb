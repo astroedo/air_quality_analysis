{
 "cells": [
  {
   "cell_type": "code",
   "execution_count": null,
   "id": "646c7330",
   "metadata": {},
   "outputs": [],
   "source": [
    "import geopandas as gpd\n",
    "\n",
    "# Scarica i GeoJSON se non li hai già\n",
    "province_url = \"https://raw.githubusercontent.com/openpolis/geojson-italy/master/geojson/limits_IT_provinces.geojson\"\n",
    "regioni_url = \"https://raw.githubusercontent.com/openpolis/geojson-italy/master/geojson/limits_IT_regions.geojson\"\n",
    "\n",
    "# Leggi i GeoJSON con geopandas\n",
    "province = gpd.read_file(province_url)\n",
    "regioni = gpd.read_file(regioni_url)\n",
    "\n",
    "# Isola la regione Lombardia\n",
    "lombardia = regioni[regioni[\"reg_name\"] == \"Lombardia\"]\n",
    "\n",
    "# Filtro geometrico: province che intersecano con Lombardia\n",
    "province_lombardia = province[province.geometry.intersects(lombardia.geometry.iloc[0])]\n",
    "\n",
    "# Salva il GeoJSON filtrato\n",
    "province_lombardia.to_file(\"province_lombardia.geojson\", driver=\"GeoJSON\")\n"
   ]
  }
 ],
 "metadata": {
  "language_info": {
   "name": "python"
  }
 },
 "nbformat": 4,
 "nbformat_minor": 5
}
