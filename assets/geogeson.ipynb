{
 "cells": [
  {
   "cell_type": "code",
   "execution_count": 5,
   "id": "646c7330",
   "metadata": {},
   "outputs": [
    {
     "name": "stdout",
     "output_type": "stream",
     "text": [
      "lombardy provinces and nearby saved in 'province_lombardia_all.geojson'\n"
     ]
    }
   ],
   "source": [
    "import geopandas as gpd\n",
    "\n",
    "# Scarica i GeoJSON se non li hai già\n",
    "province_url = \"https://raw.githubusercontent.com/openpolis/geojson-italy/master/geojson/limits_IT_provinces.geojson\"\n",
    "regioni_url = \"https://raw.githubusercontent.com/openpolis/geojson-italy/master/geojson/limits_IT_regions.geojson\"\n",
    "\n",
    "# Leggi i GeoJSON con geopandas\n",
    "province = gpd.read_file(province_url)\n",
    "regioni = gpd.read_file(regioni_url)\n",
    "\n",
    "# Isola la regione Lombardia\n",
    "lombardia = regioni[regioni[\"reg_name\"] == \"Lombardia\"]\n",
    "\n",
    "# Filtro geometrico: province che intersecano con Lombardia\n",
    "province_lombardia = province[province.geometry.intersects(lombardia.geometry.iloc[0])]\n",
    "\n",
    "# Salva il GeoJSON filtrato\n",
    "province_lombardia.to_file(\"province_lombardia_all.geojson\", driver=\"GeoJSON\")\n",
    "\n",
    "print(\"lombardy provinces and nearby saved in 'province_lombardia_all.geojson'\")\n"
   ]
  },
  {
   "cell_type": "code",
   "execution_count": null,
   "id": "01bced05",
   "metadata": {},
   "outputs": [
    {
     "name": "stdout",
     "output_type": "stream",
     "text": [
      "Province della Lombardia salvate in 'province_lombardia.geojson'\n"
     ]
    }
   ],
   "source": [
    "import geopandas as gpd\n",
    "\n",
    "# URL dei file GeoJSON originali\n",
    "province_url = \"https://raw.githubusercontent.com/openpolis/geojson-italy/master/geojson/limits_IT_provinces.geojson\"\n",
    "\n",
    "# Carica il GeoJSON delle province\n",
    "province = gpd.read_file(province_url)\n",
    "\n",
    "# Filtra solo quelle della Lombardia in base al nome della regione associata\n",
    "province_lombardia = province[province[\"reg_name\"] == \"Lombardia\"]\n",
    "\n",
    "# Salva il nuovo GeoJSON\n",
    "province_lombardia.to_file(\"province_lombardia.geojson\", driver=\"GeoJSON\")\n",
    "\n",
    "print(\"Lombardy provinces saved in 'province_lombardia.geojson'\")\n"
   ]
  }
 ],
 "metadata": {
  "kernelspec": {
   "display_name": "se4g",
   "language": "python",
   "name": "python3"
  },
  "language_info": {
   "codemirror_mode": {
    "name": "ipython",
    "version": 3
   },
   "file_extension": ".py",
   "mimetype": "text/x-python",
   "name": "python",
   "nbconvert_exporter": "python",
   "pygments_lexer": "ipython3",
   "version": "3.12.9"
  }
 },
 "nbformat": 4,
 "nbformat_minor": 5
}
