{
 "cells": [
  {
   "cell_type": "code",
   "execution_count": null,
   "id": "b3279948",
   "metadata": {
    "vscode": {
     "languageId": "plaintext"
    }
   },
   "outputs": [],
   "source": [
    "import requests\n",
    "import pandas as pd"
   ]
  },
  {
   "cell_type": "code",
   "execution_count": null,
   "id": "20cb3dd1",
   "metadata": {
    "vscode": {
     "languageId": "plaintext"
    }
   },
   "outputs": [],
   "source": [
    "url = \"https://www.dati.lombardia.it/resource/nicp-bhqi.json\"\n",
    "\n",
    "params = {\n",
    "    \"$limit\" : 1 # limit to first 1\n",
    "}\n",
    "\n",
    "response = requests.get(url, params = params)\n",
    "\n",
    "if response.status_code == 200 :\n",
    "    data = response.json()\n",
    "    df = pd.DataFrame(data)\n",
    "    print(df.head())\n",
    "else :\n",
    "    print(f\"Failed to retreive data : {response.status_code}\")"
   ]
  }
 ],
 "metadata": {
  "language_info": {
   "name": "python"
  }
 },
 "nbformat": 4,
 "nbformat_minor": 5
}
